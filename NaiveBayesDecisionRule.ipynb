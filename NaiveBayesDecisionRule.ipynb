{
  "nbformat": 4,
  "nbformat_minor": 0,
  "metadata": {
    "colab": {
      "provenance": []
    },
    "kernelspec": {
      "name": "python3",
      "display_name": "Python 3"
    },
    "language_info": {
      "name": "python"
    }
  },
  "cells": [
    {
      "cell_type": "markdown",
      "source": [
        "# ***NAIVE BAYES DECISION RULE***"
      ],
      "metadata": {
        "id": "whyzmNb6nape"
      }
    },
    {
      "cell_type": "markdown",
      "source": [
        "Loading the document into sentences:"
      ],
      "metadata": {
        "id": "oZLImAYqnOfr"
      }
    },
    {
      "cell_type": "code",
      "source": [
        "import math\n",
        "\n",
        "#getting documents in sentences\n",
        "doc1 = \"put coat back chair sat down\"\n",
        "doc2 = \"chair made timber company\"\n",
        "doc3 = \"chair insitute best\"\n",
        "doc4 = \"award IT chair\"\n",
        "doc5 = \"type different chair award fun use\"\n",
        "sense = {doc1:\"F\",doc2:\"F\",doc3:\"P\",doc4:\"P\",doc5:\"F\"}                          #Loading the senses of the docs in sense{}"
      ],
      "metadata": {
        "id": "HYVxo2Vem1Zw"
      },
      "execution_count": null,
      "outputs": []
    },
    {
      "cell_type": "markdown",
      "source": [
        "Getting the Test document:"
      ],
      "metadata": {
        "id": "ewSaRGs0ruzL"
      }
    },
    {
      "cell_type": "code",
      "source": [
        "#getting test document\n",
        "test = \"award chair IT company\""
      ],
      "metadata": {
        "id": "woyTiI61rt_N"
      },
      "execution_count": null,
      "outputs": []
    },
    {
      "cell_type": "markdown",
      "source": [
        "Checking for the ambigous words in the document:"
      ],
      "metadata": {
        "id": "IsJp9Nsin7m_"
      }
    },
    {
      "cell_type": "code",
      "source": [
        "#full document of the data\n",
        "fulldoc = doc1 + \" \" + doc2 + \" \" + doc3 + \" \" + doc4 + \" \" + doc5 \n",
        "print(\"the Full document is = \",fulldoc)\n",
        "\n",
        "#checking for ambiguous words in the data which appear each sentence:\n",
        "ambi = []                                                                       #list to contain all the repeating words\n",
        "for word in fulldoc.split(\" \"):\n",
        "  if word in doc1.split(\" \"):\n",
        "    if word in doc2.split(\" \"):\n",
        "       if word in doc3.split(\" \"):\n",
        "          if word in doc4.split(\" \"):\n",
        "            if word in doc5.split(\" \"):\n",
        "              if word not in ambi:\n",
        "                ambi.append(word)\n",
        "print(\"List of ambiguous words (words that are present in all docs = \",ambi)     #prints the list of all ambiguous words found"
      ],
      "metadata": {
        "colab": {
          "base_uri": "https://localhost:8080/"
        },
        "id": "agmckYm7nFJc",
        "outputId": "37ee450e-02e2-427b-cff5-344ba918bb9a"
      },
      "execution_count": null,
      "outputs": [
        {
          "output_type": "stream",
          "name": "stdout",
          "text": [
            "the Full document is =  put coat back chair sat down chair made timber company chair insitute best award IT chair type different chair award fun use\n",
            "List of ambiguous words (words that are present in all docs =  ['chair']\n"
          ]
        }
      ]
    },
    {
      "cell_type": "markdown",
      "source": [
        "Storing the Unique words appearing in the Document:"
      ],
      "metadata": {
        "id": "UhLX8LNPoQYN"
      }
    },
    {
      "cell_type": "code",
      "source": [
        "#Set to store all the unique words present in full document:\n",
        "V = []\n",
        "for word in fulldoc.split(\" \"):\n",
        "  if word not in V:\n",
        "    V.append(word)\n",
        "print(\"List of words= \",V)   #With ambiguous words\n",
        "\n",
        "#Removing the ambiguous words:\n",
        "for word in V:\n",
        "  if word in ambi:\n",
        "    V.remove(word)\n",
        "print(\"List of words (without ambiguous)= \",V)   #Without ambiguous words"
      ],
      "metadata": {
        "colab": {
          "base_uri": "https://localhost:8080/"
        },
        "id": "vhEdhOm7ofzG",
        "outputId": "bb6be88b-a854-4958-9e56-ff5e728873ee"
      },
      "execution_count": null,
      "outputs": [
        {
          "output_type": "stream",
          "name": "stdout",
          "text": [
            "List of words=  ['put', 'coat', 'back', 'chair', 'sat', 'down', 'made', 'timber', 'company', 'insitute', 'best', 'award', 'IT', 'type', 'different', 'fun', 'use']\n",
            "List of words (without ambiguous)=  ['put', 'coat', 'back', 'sat', 'down', 'made', 'timber', 'company', 'insitute', 'best', 'award', 'IT', 'type', 'different', 'fun', 'use']\n"
          ]
        }
      ]
    },
    {
      "cell_type": "markdown",
      "source": [
        "Calculating the Probability of senses\n",
        "P(sense 1) and P(sense 2): "
      ],
      "metadata": {
        "id": "2dQszN3opARI"
      }
    },
    {
      "cell_type": "code",
      "source": [
        "#Calculating the Probability of senses:\n",
        "f = 0\n",
        "p = 0\n",
        "for key in sense:\n",
        "  f = f + sense[key].count('F')\n",
        "  p = p + sense[key].count('P')\n",
        "#print(f)\n",
        "#print(p)                    #Will print the count of F and P sense docs \n",
        "tot = f + p\n",
        "ProbF = (f + 1) / (len(V) + tot)\n",
        "ProbP = (p + 1) / (len(V) + tot)\n",
        "print(\"P(sense F) = \",ProbF)\n",
        "print(\"P(sense P) = \",ProbP)"
      ],
      "metadata": {
        "colab": {
          "base_uri": "https://localhost:8080/"
        },
        "id": "rQeh7ZvjpQ-t",
        "outputId": "0c1b961b-20f2-469c-eebc-164481599daf"
      },
      "execution_count": null,
      "outputs": [
        {
          "output_type": "stream",
          "name": "stdout",
          "text": [
            "P(sense F) =  0.19047619047619047\n",
            "P(sense P) =  0.14285714285714285\n"
          ]
        }
      ]
    },
    {
      "cell_type": "markdown",
      "source": [
        "Function to return the Probability of a word in a given Sense:"
      ],
      "metadata": {
        "id": "oUxTSTZgpqu2"
      }
    },
    {
      "cell_type": "code",
      "source": [
        "#Calculating the Probability of the words in their respective senses:\n",
        "def probInSense(word,givenSense):                                               #Takes a word and Sense to return Probability\n",
        "  cnt = 0                                                                       #Maintains the count of the given word\n",
        "  for key in sense:\n",
        "    if sense[key] == givenSense:              \n",
        "      cnt = cnt + key.count(word)                                               #Increments the count if word is found in the key i.e. document\n",
        "  if givenSense == 'F':\n",
        "    prob = (cnt + 1)/(len(V) + f)                                               #Formula to calculate the probability of the occurance of the word\n",
        "  elif givenSense == 'P':                                                       #in the Entire Document for a particular sense\n",
        "    prob = (cnt + 1)/(len(V) + p)\n",
        "  return prob"
      ],
      "metadata": {
        "id": "Zg-iTEnPppAk"
      },
      "execution_count": null,
      "outputs": []
    },
    {
      "cell_type": "code",
      "source": [
        "ProbAwardinF = probInSense('award','F')                                         #Lines to check the working of probInSense()\n",
        "print(\"P(award|F) = \",ProbAwardinF) "
      ],
      "metadata": {
        "colab": {
          "base_uri": "https://localhost:8080/"
        },
        "id": "riHqVwogp8sJ",
        "outputId": "d8aaf546-f6fe-42be-fb03-70617939e438"
      },
      "execution_count": null,
      "outputs": [
        {
          "output_type": "stream",
          "name": "stdout",
          "text": [
            "P(award|F) =  0.10526315789473684\n"
          ]
        }
      ]
    },
    {
      "cell_type": "markdown",
      "source": [
        "Initial Scores:"
      ],
      "metadata": {
        "id": "CQaIUpAZqKCT"
      }
    },
    {
      "cell_type": "code",
      "source": [
        "#Initial score function \n",
        "def Inscore(psense):\n",
        "  return math.log(psense,10)\n",
        "\n",
        "#Initial Scores of the Senses:\n",
        "InScoreF = Inscore(ProbF)\n",
        "InScoreP = Inscore(ProbP)                \n",
        "print(\"Initial Scores of F and P are : \", InScoreF,\" \",InScoreP)\n"
      ],
      "metadata": {
        "colab": {
          "base_uri": "https://localhost:8080/"
        },
        "id": "lNx2jqoupFdz",
        "outputId": "27bf407e-997f-487f-ee14-219702353e24"
      },
      "execution_count": null,
      "outputs": [
        {
          "output_type": "stream",
          "name": "stdout",
          "text": [
            "Initial Scores of F and P are :  -0.7201593034059568   -0.8450980400142568\n"
          ]
        }
      ]
    },
    {
      "cell_type": "markdown",
      "source": [
        "Final Scores:"
      ],
      "metadata": {
        "id": "j9Sve3zrqRxd"
      }
    },
    {
      "cell_type": "code",
      "source": [
        "#Final Scores of Senses:\n",
        "def FinScore(intial_score,givenSense):\n",
        "  fscore = intial_score                                                         #Initializing the Final score with Initial Score\n",
        "  for word in test.split(\" \"):\n",
        "    if word not in ambi:\n",
        "      fscore = fscore + math.log(probInSense(word,givenSense),10)                #For each word present in test the score is calculated and added to Final Score.  \n",
        "  return fscore"
      ],
      "metadata": {
        "id": "2J6SssntqOUI"
      },
      "execution_count": null,
      "outputs": []
    },
    {
      "cell_type": "markdown",
      "source": [
        "(Running this function will also display the respective condition probabilities of the words in the given senses)"
      ],
      "metadata": {
        "id": "Bk25U_ZlqvK7"
      }
    },
    {
      "cell_type": "code",
      "source": [
        "#Final Scores of Senses:\n",
        "def FinScore(intial_score,givenSense):\n",
        "  fscore = intial_score                                                         #Initializing the Final score with Initial Score\n",
        "  for word in test.split(\" \"):\n",
        "    if word not in ambi:\n",
        "      fscore = fscore + math.log(probInSense(word,givenSense),10)                #For each word present in test the score is calculated and added to Final Score.\n",
        "      print(\"P(\",word,\"|\",givenSense,\")=\",probInSense(word,givenSense),\"\\t log₁₀(P)= \",math.log(probInSense(word,givenSense),10))  \n",
        "  return fscore"
      ],
      "metadata": {
        "id": "S6jNWZ9OqoWc"
      },
      "execution_count": null,
      "outputs": []
    },
    {
      "cell_type": "code",
      "source": [
        "FinScoreF = FinScore(InScoreF,\"F\")\n",
        "FinScoreP = FinScore(InScoreP,\"P\")                \n",
        "print(\"Final Scores of F and P are : \", FinScoreF,\" \",FinScoreP)"
      ],
      "metadata": {
        "colab": {
          "base_uri": "https://localhost:8080/"
        },
        "id": "QdDyaD-Oq_j-",
        "outputId": "4bfb2cdd-294a-4188-deff-c7cf619c83b0"
      },
      "execution_count": null,
      "outputs": [
        {
          "output_type": "stream",
          "name": "stdout",
          "text": [
            "P( award | F )= 0.10526315789473684 \t log₁₀(P)=  -0.9777236052888477\n",
            "P( IT | F )= 0.05263157894736842 \t log₁₀(P)=  -1.2787536009528289\n",
            "P( company | F )= 0.10526315789473684 \t log₁₀(P)=  -0.9777236052888477\n",
            "P( award | P )= 0.1111111111111111 \t log₁₀(P)=  -0.9542425094393249\n",
            "P( IT | P )= 0.1111111111111111 \t log₁₀(P)=  -0.9542425094393249\n",
            "P( company | P )= 0.05555555555555555 \t log₁₀(P)=  -1.255272505103306\n",
            "Final Scores of F and P are :  -3.954360114936481   -4.008855563996212\n"
          ]
        }
      ]
    },
    {
      "cell_type": "markdown",
      "source": [
        "## Conclusion:"
      ],
      "metadata": {
        "id": "7fpbnf0srFMJ"
      }
    },
    {
      "cell_type": "code",
      "source": [
        "#Inference/Conclusion:\n",
        "if FinScoreF > FinScoreP:\n",
        "  print(\"The Score of sense {} is greater, hence TEST document belongs to {}\".format(\"F\",\"F\"))\n",
        "if FinScoreP > FinScoreF:\n",
        "  print(\"The Score of sense {} is greater, hence TEST document belongs to {}\".format(\"P\",\"P\"))"
      ],
      "metadata": {
        "colab": {
          "base_uri": "https://localhost:8080/"
        },
        "id": "1Q7xc4vzrJ2N",
        "outputId": "8ce92240-ed19-48ca-b031-3fdf344c5531"
      },
      "execution_count": null,
      "outputs": [
        {
          "output_type": "stream",
          "name": "stdout",
          "text": [
            "The Score of sense F is greater, hence TEST document belongs to F\n"
          ]
        }
      ]
    },
    {
      "cell_type": "markdown",
      "source": [
        "Alternative method to load input files as \".csv\" using pandas:"
      ],
      "metadata": {
        "id": "9cPRoVNLs0bl"
      }
    },
    {
      "cell_type": "code",
      "source": [
        "import pandas as pd\n",
        "\n",
        "# reading CSV file\n",
        "data = pd.read_csv(\"NaiveBayesData.csv\")\n",
        " \n",
        "# converting column data to list\n",
        "doclist = data['sentences'].tolist()\n",
        "senselist = data['sense'].tolist()\n",
        "\n",
        "# printing list data\n",
        "print('Sense', senselist)\n",
        "print('Documents:', doclist)\n",
        "\n",
        "sense = {}\n",
        "for i in range(len(senselist)):\n",
        "  sense[doclist[i]] = senselist[i]\n",
        "print(sense)"
      ],
      "metadata": {
        "colab": {
          "base_uri": "https://localhost:8080/"
        },
        "id": "l-BBqrmAs8FJ",
        "outputId": "05912d8c-5e41-4eaf-d51b-9913ef52e805"
      },
      "execution_count": null,
      "outputs": [
        {
          "output_type": "stream",
          "name": "stdout",
          "text": [
            "Sense ['F', 'F', 'P', 'P', 'F']\n",
            "Documents: ['put coat back chair sat down', 'chair made timber company', 'chair insitute best', 'award IT chair', 'type different chair award fun use']\n",
            "{'put coat back chair sat down': 'F', 'chair made timber company': 'F', 'chair insitute best': 'P', 'award IT chair': 'P', 'type different chair award fun use': 'F'}\n"
          ]
        }
      ]
    }
  ]
}